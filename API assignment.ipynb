{
 "cells": [
  {
   "cell_type": "code",
   "execution_count": null,
   "id": "6dd8aad4-7e7b-433e-96d9-2eb0af7106d8",
   "metadata": {},
   "outputs": [],
   "source": [
    "Q1. What is an API? Give an example, where an API is used in real life.\n",
    "\n",
    "\n",
    "APIs are also commonly used to integrate social media platforms such as Facebook or\n",
    "Twitter into other applications or websites. For example, a website may use a Facebook API to\n",
    "allow users to log in using their Facebook account, or to display the user's Facebook feed."
   ]
  },
  {
   "cell_type": "code",
   "execution_count": null,
   "id": "dfa91b5a-59cd-4cdb-a9d7-f4e882368096",
   "metadata": {},
   "outputs": [],
   "source": [
    " Q2. Give advantages and disadvantages of using API. \n",
    "    \n",
    "    \n",
    "Advantages of using API: \n",
    "1. Improved performance\n",
    "2. Simplified system design\n",
    "3. Enhanced security\n",
    "4. Improved scalability\n",
    "5. Better monitoring and visibility\n",
    "\n",
    "Disadvantages of using API:\n",
    "1. Additional Complexity   \n",
    "2. Single Point of Failure\n",
    "3. Latency\n",
    "4. Vendor Lock-in"
   ]
  },
  {
   "cell_type": "code",
   "execution_count": null,
   "id": "27435c01-f18b-4fbe-a127-dd333b0ff2bb",
   "metadata": {},
   "outputs": [],
   "source": [
    "Q3. What is a Web API? Differentiate between API and Web API.\n",
    "\n",
    "\n",
    "A Web API is an application programming interface for the Web. A Browser API can extend \n",
    "the functionality of a web browser. A Server API can extend the functionality of a web server.\n",
    "\n",
    "API is an interface that exposes an application's data to outside software, whereas web applications are \n",
    "one type of API with stricter requirements. These requirements include network communication, \n",
    "SOAP as the primary protocol, and less accessibility for the public."
   ]
  },
  {
   "cell_type": "code",
   "execution_count": null,
   "id": "4ce06f61-7c24-49f8-85fb-e7a59f4da3dd",
   "metadata": {},
   "outputs": [],
   "source": [
    " Q4. Explain REST and SOAP Architecture. Mention shortcomings of SOAP.\n",
    "    \n",
    "    \n",
    "SOAP and REST are two different approaches to API design. The SOAP approach is highly structured\n",
    "and uses XML data format. REST is more flexible and allows applications to exchange data in multiple formats.  \n",
    "\n",
    "Limitations of Soaps• Soaps do not wash well in hard water and does not form much lather or foam. The\n",
    "calcium magnesium or iron ions of hard water form an insoluble sticky grey coloured precipitate called\n",
    "scum which restricts the cleansing action of soap and makes washing more difficult."
   ]
  },
  {
   "cell_type": "code",
   "execution_count": null,
   "id": "64acf3f0-fa1d-406b-a8e7-e6467c98551e",
   "metadata": {},
   "outputs": [],
   "source": [
    " Q5. Differentiate between REST and SOAP.\n",
    "    \n",
    "    \n",
    "The main difference is that SOAP is a structured protocol, while REST is more flexible and less defined.\n",
    "REST and SOAP are two different ways to connect applications with server-side data. Both of the API\n",
    "formats use data that both humans and machines can read, and both often use HTTP protocols.   "
   ]
  }
 ],
 "metadata": {
  "kernelspec": {
   "display_name": "Python 3 (ipykernel)",
   "language": "python",
   "name": "python3"
  },
  "language_info": {
   "codemirror_mode": {
    "name": "ipython",
    "version": 3
   },
   "file_extension": ".py",
   "mimetype": "text/x-python",
   "name": "python",
   "nbconvert_exporter": "python",
   "pygments_lexer": "ipython3",
   "version": "3.10.8"
  }
 },
 "nbformat": 4,
 "nbformat_minor": 5
}
